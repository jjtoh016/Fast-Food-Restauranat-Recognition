{
 "cells": [
  {
   "cell_type": "code",
   "execution_count": 2,
   "id": "986c27cf",
   "metadata": {},
   "outputs": [
    {
     "name": "stdout",
     "output_type": "stream",
     "text": [
      "Requirement already satisfied: h5py in d:\\miniconda3\\lib\\site-packages (3.2.1)\n",
      "Requirement already satisfied: numpy>=1.19.0 in d:\\miniconda3\\lib\\site-packages (from h5py) (1.20.3)\n",
      "Note: you may need to restart the kernel to use updated packages.\n"
     ]
    }
   ],
   "source": [
    "pip install h5py"
   ]
  },
  {
   "cell_type": "code",
   "execution_count": 3,
   "id": "c74ecadf",
   "metadata": {},
   "outputs": [
    {
     "name": "stdout",
     "output_type": "stream",
     "text": [
      "Requirement already satisfied: opencv-python in d:\\miniconda3\\lib\\site-packages (4.5.5.64)Note: you may need to restart the kernel to use updated packages.\n",
      "\n",
      "Requirement already satisfied: numpy>=1.17.3 in d:\\miniconda3\\lib\\site-packages (from opencv-python) (1.20.3)\n"
     ]
    }
   ],
   "source": [
    "pip install opencv-python"
   ]
  },
  {
   "cell_type": "code",
   "execution_count": 1,
   "id": "48fe4d90",
   "metadata": {},
   "outputs": [],
   "source": [
    "import numpy as np\n",
    "import matplotlib.pyplot as plt\n",
    "import math\n",
    "from PIL import Image\n",
    "import h5py\n",
    "import os\n",
    "import cv2\n",
    "import glob"
   ]
  },
  {
   "cell_type": "code",
   "execution_count": 2,
   "id": "dd448f54",
   "metadata": {},
   "outputs": [],
   "source": [
    "image_folder = \"D:/Degree Y2S2/PR/Project 2/\"\n",
    "hdf5_path = \"D:/Degree Y2S2/PR/Project 2/fast_food.hdf5\""
   ]
  },
  {
   "cell_type": "code",
   "execution_count": 3,
   "id": "74d686ab",
   "metadata": {},
   "outputs": [],
   "source": [
    "file = h5py.File(hdf5_path, \"r+\")\n",
    "\n",
    "images = np.array(file[\"/images\"]).astype(\"uint\")\n",
    "labels = np.array(file[\"/labels\"]).astype(\"uint\")"
   ]
  },
  {
   "cell_type": "code",
   "execution_count": 4,
   "id": "2cb5b9c1",
   "metadata": {},
   "outputs": [],
   "source": [
    "# To split data into training set and testing set\n",
    "from sklearn.model_selection import train_test_split\n",
    "\n",
    "# x is for features, y is for label\n",
    "X_train, X_test, y_train, y_test = train_test_split(images,\n",
    "                                                    labels,\n",
    "                                                    test_size=0.3,\n",
    "                                                    random_state=0)"
   ]
  },
  {
   "cell_type": "code",
   "execution_count": 5,
   "id": "bc97f282",
   "metadata": {},
   "outputs": [
    {
     "data": {
      "text/plain": [
       "KNeighborsClassifier(n_neighbors=2)"
      ]
     },
     "execution_count": 5,
     "metadata": {},
     "output_type": "execute_result"
    }
   ],
   "source": [
    "from sklearn.decomposition import PCA\n",
    "pca = PCA(n_components=70)\n",
    "pca.fit(X_train)\n",
    "\n",
    "X_train_pca = pca.transform(X_train)\n",
    "X_test_pca = pca.transform(X_test)\n",
    "\n",
    "from sklearn.neighbors import KNeighborsClassifier\n",
    "\n",
    "knn = KNeighborsClassifier(n_neighbors=2)\n",
    "knn.fit(X_train_pca, y_train)"
   ]
  },
  {
   "cell_type": "code",
   "execution_count": 6,
   "id": "db9a07e9",
   "metadata": {},
   "outputs": [],
   "source": [
    "from tkinter import*\n",
    "import PIL\n",
    "from PIL import ImageTk\n",
    "from PIL import Image\n",
    "from tkinter import filedialog\n",
    "import os"
   ]
  },
  {
   "cell_type": "code",
   "execution_count": 7,
   "id": "f1617dea",
   "metadata": {},
   "outputs": [],
   "source": [
    "def showimage(predict_text, predict_result):\n",
    "    filename=filedialog.askopenfilename(title=\"Select Image file\",filetype=((\"PNG file\",\"*.png\"),(\"All Files\",\"*.*\")))\n",
    "    img=Image.open(filename)\n",
    "    img=ImageTk.PhotoImage(img)\n",
    "    lbl.configure(image=img)\n",
    "    lbl.image=img\n",
    "\n",
    "    path = filename\n",
    "\n",
    "    images = []\n",
    "\n",
    "    testing = Image.open(path)\n",
    "    testing = testing.convert('RGB')\n",
    "    pixels = list(testing.getdata())\n",
    "\n",
    "    # Convert the images to numpy array\n",
    "    np_pixels = np.asarray(pixels)\n",
    "\n",
    "    # Flatten image to one row\n",
    "    img_array = np_pixels.flatten()\n",
    "    images.append(img_array)\n",
    "\n",
    "    img_np_array = np.asarray(images)\n",
    "    images_pca = pca.transform(img_np_array)\n",
    "    predicted = knn.predict(images_pca)\n",
    "    \n",
    "    predict_text.config(text = 'Predicted result:')\n",
    "    \n",
    "    if predicted == 0:\n",
    "        predict_result.config(text = \"The image is Domino!\")\n",
    "    elif predicted == 1:\n",
    "        predict_result.config(text = \"The image is KFC!\")\n",
    "    elif predicted == 2:\n",
    "        predict_result.config(text = \"The image is McDonald's!\")"
   ]
  },
  {
   "cell_type": "code",
   "execution_count": null,
   "id": "4be488e7",
   "metadata": {},
   "outputs": [],
   "source": [
    "root=Tk()\n",
    "\n",
    "\n",
    "frm=Frame(root)\n",
    "frm.pack(side=BOTTOM,padx=15,pady=15)\n",
    "\n",
    "lbl=Label(root)\n",
    "lbl.pack()\n",
    "\n",
    "Label(root, text= \"Choose an image to let system recognize it!\").pack(expand=True)\n",
    "\n",
    "predict_text = Label(frm)\n",
    "predict_text.pack(expand=True)\n",
    "predict_result = Label(frm)\n",
    "predict_result.pack(expand=True)\n",
    "\n",
    "btn=Button(frm,text=\"Browse Image\",command= lambda: showimage(predict_text, predict_result))\n",
    "btn.pack(expand=True, side=LEFT)\n",
    "\n",
    "root.title(\"Fast Food Restaurant Recognition System\")\n",
    "root.geometry('500x550')\n",
    "root.mainloop()"
   ]
  },
  {
   "cell_type": "code",
   "execution_count": null,
   "id": "e62dee70",
   "metadata": {},
   "outputs": [],
   "source": []
  }
 ],
 "metadata": {
  "kernelspec": {
   "display_name": "Python 3 (ipykernel)",
   "language": "python",
   "name": "python3"
  },
  "language_info": {
   "codemirror_mode": {
    "name": "ipython",
    "version": 3
   },
   "file_extension": ".py",
   "mimetype": "text/x-python",
   "name": "python",
   "nbconvert_exporter": "python",
   "pygments_lexer": "ipython3",
   "version": "3.9.5"
  }
 },
 "nbformat": 4,
 "nbformat_minor": 5
}
